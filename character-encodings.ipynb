{
 "cells": [
  {
   "cell_type": "markdown",
   "id": "6418aa63",
   "metadata": {
    "papermill": {
     "duration": 0.005057,
     "end_time": "2023-06-07T12:08:57.771739",
     "exception": false,
     "start_time": "2023-06-07T12:08:57.766682",
     "status": "completed"
    },
    "tags": []
   },
   "source": [
    "**This notebook is an exercise in the [Data Cleaning](https://www.kaggle.com/learn/data-cleaning) course.  You can reference the tutorial at [this link](https://www.kaggle.com/alexisbcook/character-encodings).**\n",
    "\n",
    "---\n"
   ]
  },
  {
   "cell_type": "markdown",
   "id": "7599613c",
   "metadata": {
    "papermill": {
     "duration": 0.005709,
     "end_time": "2023-06-07T12:08:57.782030",
     "exception": false,
     "start_time": "2023-06-07T12:08:57.776321",
     "status": "completed"
    },
    "tags": []
   },
   "source": [
    "In this exercise, you'll apply what you learned in the **Character encodings** tutorial.\n",
    "\n",
    "# Setup\n",
    "\n",
    "The questions below will give you feedback on your work. Run the following cell to set up the feedback system."
   ]
  },
  {
   "cell_type": "code",
   "execution_count": 1,
   "id": "7bd9261f",
   "metadata": {
    "execution": {
     "iopub.execute_input": "2023-06-07T12:08:57.793349Z",
     "iopub.status.busy": "2023-06-07T12:08:57.792901Z",
     "iopub.status.idle": "2023-06-07T12:08:57.892722Z",
     "shell.execute_reply": "2023-06-07T12:08:57.891835Z"
    },
    "papermill": {
     "duration": 0.108274,
     "end_time": "2023-06-07T12:08:57.894973",
     "exception": false,
     "start_time": "2023-06-07T12:08:57.786699",
     "status": "completed"
    },
    "tags": []
   },
   "outputs": [
    {
     "name": "stdout",
     "output_type": "stream",
     "text": [
      "Setup Complete\n"
     ]
    }
   ],
   "source": [
    "from learntools.core import binder\n",
    "binder.bind(globals())\n",
    "from learntools.data_cleaning.ex4 import *\n",
    "print(\"Setup Complete\")"
   ]
  },
  {
   "cell_type": "markdown",
   "id": "d84fd364",
   "metadata": {
    "papermill": {
     "duration": 0.004769,
     "end_time": "2023-06-07T12:08:57.904615",
     "exception": false,
     "start_time": "2023-06-07T12:08:57.899846",
     "status": "completed"
    },
    "tags": []
   },
   "source": [
    "# Get our environment set up\n",
    "\n",
    "The first thing we'll need to do is load in the libraries we'll be using."
   ]
  },
  {
   "cell_type": "code",
   "execution_count": 2,
   "id": "f0817b8d",
   "metadata": {
    "execution": {
     "iopub.execute_input": "2023-06-07T12:08:57.916376Z",
     "iopub.status.busy": "2023-06-07T12:08:57.915975Z",
     "iopub.status.idle": "2023-06-07T12:08:57.922730Z",
     "shell.execute_reply": "2023-06-07T12:08:57.921867Z"
    },
    "papermill": {
     "duration": 0.015752,
     "end_time": "2023-06-07T12:08:57.925043",
     "exception": false,
     "start_time": "2023-06-07T12:08:57.909291",
     "status": "completed"
    },
    "tags": []
   },
   "outputs": [],
   "source": [
    "# modules we'll use\n",
    "import pandas as pd\n",
    "import numpy as np\n",
    "\n",
    "# helpful character encoding module\n",
    "import charset_normalizer\n",
    "\n",
    "# set seed for reproducibility\n",
    "np.random.seed(0)"
   ]
  },
  {
   "cell_type": "markdown",
   "id": "7596a5c5",
   "metadata": {
    "papermill": {
     "duration": 0.005819,
     "end_time": "2023-06-07T12:08:57.935504",
     "exception": false,
     "start_time": "2023-06-07T12:08:57.929685",
     "status": "completed"
    },
    "tags": []
   },
   "source": [
    "# 1) What are encodings?\n",
    "\n",
    "You're working with a dataset composed of bytes.  Run the code cell below to print a sample entry."
   ]
  },
  {
   "cell_type": "code",
   "execution_count": 3,
   "id": "b84ae895",
   "metadata": {
    "execution": {
     "iopub.execute_input": "2023-06-07T12:08:57.947730Z",
     "iopub.status.busy": "2023-06-07T12:08:57.946604Z",
     "iopub.status.idle": "2023-06-07T12:08:57.953148Z",
     "shell.execute_reply": "2023-06-07T12:08:57.951945Z"
    },
    "papermill": {
     "duration": 0.014915,
     "end_time": "2023-06-07T12:08:57.955273",
     "exception": false,
     "start_time": "2023-06-07T12:08:57.940358",
     "status": "completed"
    },
    "tags": []
   },
   "outputs": [
    {
     "name": "stdout",
     "output_type": "stream",
     "text": [
      "b'\\xa7A\\xa6n'\n",
      "data type: <class 'bytes'>\n"
     ]
    }
   ],
   "source": [
    "sample_entry = b'\\xa7A\\xa6n'\n",
    "print(sample_entry)\n",
    "print('data type:', type(sample_entry))"
   ]
  },
  {
   "cell_type": "markdown",
   "id": "7262ed45",
   "metadata": {
    "papermill": {
     "duration": 0.004329,
     "end_time": "2023-06-07T12:08:57.964156",
     "exception": false,
     "start_time": "2023-06-07T12:08:57.959827",
     "status": "completed"
    },
    "tags": []
   },
   "source": [
    "You notice that it doesn't use the standard UTF-8 encoding. \n",
    "\n",
    "Use the next code cell to create a variable `new_entry` that changes the encoding from `\"big5-tw\"` to `\"utf-8\"`.  `new_entry` should have the bytes datatype."
   ]
  },
  {
   "cell_type": "code",
   "execution_count": 4,
   "id": "015ac8d7",
   "metadata": {
    "execution": {
     "iopub.execute_input": "2023-06-07T12:08:57.975339Z",
     "iopub.status.busy": "2023-06-07T12:08:57.974287Z",
     "iopub.status.idle": "2023-06-07T12:08:57.983397Z",
     "shell.execute_reply": "2023-06-07T12:08:57.982599Z"
    },
    "papermill": {
     "duration": 0.017119,
     "end_time": "2023-06-07T12:08:57.985706",
     "exception": false,
     "start_time": "2023-06-07T12:08:57.968587",
     "status": "completed"
    },
    "tags": []
   },
   "outputs": [
    {
     "data": {
      "application/javascript": [
       "parent.postMessage({\"jupyterEvent\": \"custom.exercise_interaction\", \"data\": {\"outcomeType\": 1, \"valueTowardsCompletion\": 0.3333333333333333, \"interactionType\": 1, \"questionType\": 1, \"questionId\": \"1_EncodingsIntro\", \"learnToolsVersion\": \"0.3.4\", \"failureMessage\": \"\", \"exceptionClass\": \"\", \"trace\": \"\"}}, \"*\")"
      ],
      "text/plain": [
       "<IPython.core.display.Javascript object>"
      ]
     },
     "metadata": {},
     "output_type": "display_data"
    },
    {
     "data": {
      "text/markdown": [
       "<span style=\"color:#33cc33\">Correct</span>"
      ],
      "text/plain": [
       "Correct"
      ]
     },
     "metadata": {},
     "output_type": "display_data"
    }
   ],
   "source": [
    "before = sample_entry.decode(\"big5-tw\")\n",
    "new_entry = before.encode()\n",
    "# Check your answer\n",
    "q1.check()"
   ]
  },
  {
   "cell_type": "code",
   "execution_count": 5,
   "id": "30143adc",
   "metadata": {
    "execution": {
     "iopub.execute_input": "2023-06-07T12:08:57.997587Z",
     "iopub.status.busy": "2023-06-07T12:08:57.996889Z",
     "iopub.status.idle": "2023-06-07T12:08:58.000836Z",
     "shell.execute_reply": "2023-06-07T12:08:58.000021Z"
    },
    "papermill": {
     "duration": 0.01227,
     "end_time": "2023-06-07T12:08:58.002862",
     "exception": false,
     "start_time": "2023-06-07T12:08:57.990592",
     "status": "completed"
    },
    "tags": []
   },
   "outputs": [],
   "source": [
    "# Lines below will give you a hint or solution code\n",
    "# q1.hint()\n",
    "# q1.solution()"
   ]
  },
  {
   "cell_type": "markdown",
   "id": "26e74de3",
   "metadata": {
    "papermill": {
     "duration": 0.004518,
     "end_time": "2023-06-07T12:08:58.012536",
     "exception": false,
     "start_time": "2023-06-07T12:08:58.008018",
     "status": "completed"
    },
    "tags": []
   },
   "source": [
    "# 2) Reading in files with encoding problems\n",
    "\n",
    "Use the code cell below to read in this file at path `\"../input/fatal-police-shootings-in-the-us/PoliceKillingsUS.csv\"`.  \n",
    "\n",
    "Figure out what the correct encoding should be and read in the file to a DataFrame `police_killings`."
   ]
  },
  {
   "cell_type": "code",
   "execution_count": 6,
   "id": "7911192b",
   "metadata": {
    "execution": {
     "iopub.execute_input": "2023-06-07T12:08:58.023945Z",
     "iopub.status.busy": "2023-06-07T12:08:58.023535Z",
     "iopub.status.idle": "2023-06-07T12:08:58.532192Z",
     "shell.execute_reply": "2023-06-07T12:08:58.531034Z"
    },
    "papermill": {
     "duration": 0.517825,
     "end_time": "2023-06-07T12:08:58.535155",
     "exception": false,
     "start_time": "2023-06-07T12:08:58.017330",
     "status": "completed"
    },
    "tags": []
   },
   "outputs": [
    {
     "data": {
      "application/javascript": [
       "parent.postMessage({\"jupyterEvent\": \"custom.exercise_interaction\", \"data\": {\"outcomeType\": 1, \"valueTowardsCompletion\": 0.3333333333333333, \"interactionType\": 1, \"questionType\": 1, \"questionId\": \"2_ReadIn\", \"learnToolsVersion\": \"0.3.4\", \"failureMessage\": \"\", \"exceptionClass\": \"\", \"trace\": \"\"}}, \"*\")"
      ],
      "text/plain": [
       "<IPython.core.display.Javascript object>"
      ]
     },
     "metadata": {},
     "output_type": "display_data"
    },
    {
     "data": {
      "text/markdown": [
       "<span style=\"color:#33cc33\">Correct</span>"
      ],
      "text/plain": [
       "Correct"
      ]
     },
     "metadata": {},
     "output_type": "display_data"
    }
   ],
   "source": [
    "with open(\"../input/fatal-police-shootings-in-the-us/PoliceKillingsUS.csv\", 'rb') as rawdata:\n",
    "    result = charset_normalizer.detect(rawdata.read(100000))\n",
    "#print(result)  \n",
    "police_killings = pd.read_csv(\"../input/fatal-police-shootings-in-the-us/PoliceKillingsUS.csv\", encoding='windows-1250')\n",
    "\n",
    "# Check your answer\n",
    "q2.check()"
   ]
  },
  {
   "cell_type": "markdown",
   "id": "22f261a7",
   "metadata": {
    "papermill": {
     "duration": 0.004792,
     "end_time": "2023-06-07T12:08:58.545072",
     "exception": false,
     "start_time": "2023-06-07T12:08:58.540280",
     "status": "completed"
    },
    "tags": []
   },
   "source": [
    "Feel free to use any additional code cells for supplemental work.  To get credit for finishing this question, you'll need to run `q2.check()` and get a result of **Correct**."
   ]
  },
  {
   "cell_type": "code",
   "execution_count": 7,
   "id": "ea6d54f8",
   "metadata": {
    "execution": {
     "iopub.execute_input": "2023-06-07T12:08:58.556681Z",
     "iopub.status.busy": "2023-06-07T12:08:58.556293Z",
     "iopub.status.idle": "2023-06-07T12:08:58.561459Z",
     "shell.execute_reply": "2023-06-07T12:08:58.560109Z"
    },
    "papermill": {
     "duration": 0.013975,
     "end_time": "2023-06-07T12:08:58.564025",
     "exception": false,
     "start_time": "2023-06-07T12:08:58.550050",
     "status": "completed"
    },
    "tags": []
   },
   "outputs": [],
   "source": [
    "# (Optional) Use this code cell for any additional work."
   ]
  },
  {
   "cell_type": "code",
   "execution_count": 8,
   "id": "8c59cc9c",
   "metadata": {
    "execution": {
     "iopub.execute_input": "2023-06-07T12:08:58.575982Z",
     "iopub.status.busy": "2023-06-07T12:08:58.575606Z",
     "iopub.status.idle": "2023-06-07T12:08:58.581285Z",
     "shell.execute_reply": "2023-06-07T12:08:58.579801Z"
    },
    "papermill": {
     "duration": 0.014546,
     "end_time": "2023-06-07T12:08:58.583814",
     "exception": false,
     "start_time": "2023-06-07T12:08:58.569268",
     "status": "completed"
    },
    "tags": []
   },
   "outputs": [],
   "source": [
    "# Lines below will give you a hint or solution code\n",
    "#q2.hint()\n",
    "#q2.solution()"
   ]
  },
  {
   "cell_type": "markdown",
   "id": "a40b23e4",
   "metadata": {
    "papermill": {
     "duration": 0.004774,
     "end_time": "2023-06-07T12:08:58.593809",
     "exception": false,
     "start_time": "2023-06-07T12:08:58.589035",
     "status": "completed"
    },
    "tags": []
   },
   "source": [
    "# 3) Saving your files with UTF-8 encoding\n",
    "\n",
    "Save a version of the police killings dataset to CSV with UTF-8 encoding.  Your answer will be marked correct after saving this file.  \n",
    "\n",
    "Note: When using the `to_csv()` method, supply only the name of the file (e.g., `\"my_file.csv\"`).  This saves the file at the filepath `\"/kaggle/working/my_file.csv\"`."
   ]
  },
  {
   "cell_type": "code",
   "execution_count": 9,
   "id": "4504ef2a",
   "metadata": {
    "execution": {
     "iopub.execute_input": "2023-06-07T12:08:58.605772Z",
     "iopub.status.busy": "2023-06-07T12:08:58.605421Z",
     "iopub.status.idle": "2023-06-07T12:08:58.648268Z",
     "shell.execute_reply": "2023-06-07T12:08:58.647236Z"
    },
    "papermill": {
     "duration": 0.051587,
     "end_time": "2023-06-07T12:08:58.650501",
     "exception": false,
     "start_time": "2023-06-07T12:08:58.598914",
     "status": "completed"
    },
    "tags": []
   },
   "outputs": [
    {
     "data": {
      "application/javascript": [
       "parent.postMessage({\"jupyterEvent\": \"custom.exercise_interaction\", \"data\": {\"outcomeType\": 1, \"valueTowardsCompletion\": 0.3333333333333333, \"interactionType\": 1, \"questionType\": 2, \"questionId\": \"3_SaveCSV\", \"learnToolsVersion\": \"0.3.4\", \"failureMessage\": \"\", \"exceptionClass\": \"\", \"trace\": \"\"}}, \"*\")"
      ],
      "text/plain": [
       "<IPython.core.display.Javascript object>"
      ]
     },
     "metadata": {},
     "output_type": "display_data"
    },
    {
     "data": {
      "text/markdown": [
       "<span style=\"color:#33cc33\">Correct</span>"
      ],
      "text/plain": [
       "Correct"
      ]
     },
     "metadata": {},
     "output_type": "display_data"
    }
   ],
   "source": [
    "# TODO: Save the police killings dataset to CSV\n",
    "police_killings.to_csv(\"my_file.csv\")\n",
    "# Check your answer\n",
    "q3.check()"
   ]
  },
  {
   "cell_type": "code",
   "execution_count": 10,
   "id": "e34927e1",
   "metadata": {
    "execution": {
     "iopub.execute_input": "2023-06-07T12:08:58.662873Z",
     "iopub.status.busy": "2023-06-07T12:08:58.662475Z",
     "iopub.status.idle": "2023-06-07T12:08:58.666763Z",
     "shell.execute_reply": "2023-06-07T12:08:58.665602Z"
    },
    "papermill": {
     "duration": 0.012951,
     "end_time": "2023-06-07T12:08:58.668799",
     "exception": false,
     "start_time": "2023-06-07T12:08:58.655848",
     "status": "completed"
    },
    "tags": []
   },
   "outputs": [],
   "source": [
    "# Lines below will give you a hint or solution code\n",
    "#q3.hint()\n",
    "#q3.solution()"
   ]
  },
  {
   "cell_type": "markdown",
   "id": "5903b472",
   "metadata": {
    "papermill": {
     "duration": 0.005077,
     "end_time": "2023-06-07T12:08:58.679434",
     "exception": false,
     "start_time": "2023-06-07T12:08:58.674357",
     "status": "completed"
    },
    "tags": []
   },
   "source": [
    "# (Optional) More practice\n",
    "\n",
    "Check out [this dataset of files in different character encodings](https://www.kaggle.com/rtatman/character-encoding-examples). Can you read in all the files with their original encodings and them save them out as UTF-8 files?\n",
    "\n",
    "If you have a file that's in UTF-8 but has just a couple of weird-looking characters in it, you can try out the [ftfy module](https://ftfy.readthedocs.io/en/latest/#) and see if it helps. \n",
    "\n",
    "# Keep going\n",
    "\n",
    "In the final lesson, learn how to [**clean up inconsistent text entries**](https://www.kaggle.com/alexisbcook/inconsistent-data-entry) in your dataset."
   ]
  },
  {
   "cell_type": "markdown",
   "id": "0e63ec43",
   "metadata": {
    "papermill": {
     "duration": 0.00512,
     "end_time": "2023-06-07T12:08:58.689911",
     "exception": false,
     "start_time": "2023-06-07T12:08:58.684791",
     "status": "completed"
    },
    "tags": []
   },
   "source": [
    "---\n",
    "\n",
    "\n",
    "\n",
    "\n",
    "*Have questions or comments? Visit the [course discussion forum](https://www.kaggle.com/learn/data-cleaning/discussion) to chat with other learners.*"
   ]
  }
 ],
 "metadata": {
  "kernelspec": {
   "display_name": "Python 3",
   "language": "python",
   "name": "python3"
  },
  "language_info": {
   "codemirror_mode": {
    "name": "ipython",
    "version": 3
   },
   "file_extension": ".py",
   "mimetype": "text/x-python",
   "name": "python",
   "nbconvert_exporter": "python",
   "pygments_lexer": "ipython3",
   "version": "3.10.10"
  },
  "papermill": {
   "default_parameters": {},
   "duration": 14.545881,
   "end_time": "2023-06-07T12:09:01.901290",
   "environment_variables": {},
   "exception": null,
   "input_path": "__notebook__.ipynb",
   "output_path": "__notebook__.ipynb",
   "parameters": {},
   "start_time": "2023-06-07T12:08:47.355409",
   "version": "2.4.0"
  }
 },
 "nbformat": 4,
 "nbformat_minor": 5
}
